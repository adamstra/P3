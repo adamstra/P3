{
 "cells": [
  {
   "cell_type": "code",
   "execution_count": 7,
   "metadata": {},
   "outputs": [],
   "source": [
    "import pandas as pd\n",
    "import numpy as np\n",
    "from scipy.stats import zscore"
   ]
  },
  {
   "cell_type": "code",
   "execution_count": 8,
   "metadata": {},
   "outputs": [
    {
     "data": {
      "text/plain": [
       "['Data/janvier_data.xlsx',\n",
       " 'Data/fevrier_data.xlsx',\n",
       " 'Data/mars_data.xlsx',\n",
       " 'Data/avril_data.xlsx',\n",
       " 'Data/mai_data.xlsx',\n",
       " 'Data/juin_data.xlsx']"
      ]
     },
     "execution_count": 8,
     "metadata": {},
     "output_type": "execute_result"
    }
   ],
   "source": [
    "data_path = [\n",
    "    \"Data/janvier_data.xlsx\",\n",
    "    \"Data/fevrier_data.xlsx\",\n",
    "    \"Data/mars_data.xlsx\",\n",
    "    \"Data/avril_data.xlsx\",\n",
    "    \"Data/mai_data.xlsx\",\n",
    "    \"Data/juin_data.xlsx\",\n",
    "]\n",
    "data_path"
   ]
  },
  {
   "cell_type": "code",
   "execution_count": 9,
   "metadata": {},
   "outputs": [],
   "source": [
    "# Charger et concaténer tous les fichiers\n",
    "data = pd.concat([pd.read_excel(file) for file in data_path], ignore_index=True)\n",
    "\n",
    "# Calculer le Z-score pour chaque colonne (hors colonne \"Date\")\n",
    "data_anomalies = data.copy()\n",
    "for column in data.columns[1:]:\n",
    "    data_anomalies[f\"{column}_zscore\"] = zscore(data[column])"
   ]
  },
  {
   "cell_type": "code",
   "execution_count": 10,
   "metadata": {},
   "outputs": [
    {
     "name": "stdout",
     "output_type": "stream",
     "text": [
      "     Date  Date  4'' Gd  4'' Kab  6'' Kab  3'' Kab  24'' storage  6'' SC  PC-1\n",
      "75     16    16     185      140      NaN      NaN           120     NaN   120\n",
      "166    15    15     185      140      NaN      NaN           140     NaN   115\n",
      "167    16    16     195      150      NaN      NaN           170     NaN   131\n",
      "168    17    17     215      170      NaN      NaN           195     NaN   150\n"
     ]
    }
   ],
   "source": [
    "# Filtrer les anomalies (Z-score > 3 ou < -3)\n",
    "anomalies = data_anomalies[\n",
    "    (data_anomalies.filter(like=\"_zscore\").abs() > 3).any(axis=1)\n",
    "]\n",
    "\n",
    "# Afficher les anomalies détectées\n",
    "print(anomalies[[\"Date\"] + [col for col in anomalies.columns if \"_zscore\" not in col]])"
   ]
  },
  {
   "cell_type": "code",
   "execution_count": null,
   "metadata": {},
   "outputs": [],
   "source": []
  }
 ],
 "metadata": {
  "kernelspec": {
   "display_name": "Python 3",
   "language": "python",
   "name": "python3"
  },
  "language_info": {
   "codemirror_mode": {
    "name": "ipython",
    "version": 3
   },
   "file_extension": ".py",
   "mimetype": "text/x-python",
   "name": "python",
   "nbconvert_exporter": "python",
   "pygments_lexer": "ipython3",
   "version": "3.11.9"
  }
 },
 "nbformat": 4,
 "nbformat_minor": 2
}
